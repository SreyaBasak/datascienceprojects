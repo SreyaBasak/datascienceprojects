{
 "cells": [
  {
   "cell_type": "markdown",
   "id": "b6729dba",
   "metadata": {},
   "source": [
    "# ECLAT in python"
   ]
  },
  {
   "cell_type": "markdown",
   "id": "8ba499a8",
   "metadata": {},
   "source": [
    "Eclat stands for **Equivalence Class Clustering and Bottom-Up Lattice Traversal** and it is an algorithm for association rule mining (which also regroups frequent itemset mining).\n",
    "\n",
    "Association rule mining and frequent itemset mining are easiest to understand in their applications for basket analysis: the goal here is to understand which products are often bought together by shoppers.\n",
    "These association rules can then be used for example for recommender engines (in case of online shopping) or for store improvement for offline shopping.\n",
    "The ECLAT algorithm works in a vertical manner just like the **Depth-First Search of a graph**.\n",
    "\n",
    "## How does the ECLAT algorithm work?\n",
    "* Step 1 — List the Transaction ID (TID) set of each product\n",
    "* Step 2 — Filter with minimum support\n",
    "* Step 3 — Compute the Transaction ID set of each product pair. The interesting thing about the ECLAT algorithm is that this step is done using the Intersection of the two original sets. This makes it different from the Apriori algorithm.\n",
    "* Step 4 — Filter out the pairs that do not reach minimum support\n",
    "* Step 5— Continue as long as you can make new pairs above support\n",
    "\n",
    "The ECLAT algorithm is faster because it is much simpler to identify the intersection of the set of transactions IDs than to scan each individual transaction for the presence of pairs of products (as Apriori does)"
   ]
  },
  {
   "cell_type": "code",
   "execution_count": 1,
   "id": "2abcbdd0",
   "metadata": {},
   "outputs": [
    {
     "name": "stdout",
     "output_type": "stream",
     "text": [
      "Collecting pyECLAT\n",
      "  Downloading pyECLAT-1.0.2-py3-none-any.whl (6.3 kB)\n",
      "Requirement already satisfied: numpy>=1.17.4 in c:\\users\\sreya basak\\anaconda3\\lib\\site-packages (from pyECLAT) (1.19.5)\n",
      "Requirement already satisfied: pandas>=0.25.3 in c:\\users\\sreya basak\\anaconda3\\lib\\site-packages (from pyECLAT) (1.2.4)\n",
      "Requirement already satisfied: tqdm>=4.41.1 in c:\\users\\sreya basak\\anaconda3\\lib\\site-packages (from pyECLAT) (4.62.3)\n",
      "Requirement already satisfied: python-dateutil>=2.7.3 in c:\\users\\sreya basak\\anaconda3\\lib\\site-packages (from pandas>=0.25.3->pyECLAT) (2.8.1)\n",
      "Requirement already satisfied: pytz>=2017.3 in c:\\users\\sreya basak\\anaconda3\\lib\\site-packages (from pandas>=0.25.3->pyECLAT) (2021.1)\n",
      "Requirement already satisfied: six>=1.5 in c:\\users\\sreya basak\\anaconda3\\lib\\site-packages (from python-dateutil>=2.7.3->pandas>=0.25.3->pyECLAT) (1.15.0)\n",
      "Requirement already satisfied: colorama in c:\\users\\sreya basak\\anaconda3\\lib\\site-packages (from tqdm>=4.41.1->pyECLAT) (0.4.4)\n",
      "Installing collected packages: pyECLAT\n",
      "Successfully installed pyECLAT-1.0.2\n"
     ]
    }
   ],
   "source": [
    "!pip install pyECLAT"
   ]
  },
  {
   "cell_type": "code",
   "execution_count": 3,
   "id": "194434ac",
   "metadata": {},
   "outputs": [],
   "source": [
    "import pandas as pd"
   ]
  },
  {
   "cell_type": "code",
   "execution_count": 2,
   "id": "aad701fc",
   "metadata": {},
   "outputs": [],
   "source": [
    "# store the item sets as lists of strings in a list\n",
    "transactions = [\n",
    "    ['beer', 'wine', 'cheese'],\n",
    "    ['beer', 'potato chips'],\n",
    "    ['eggs', 'flower', 'butter', 'cheese'],\n",
    "    ['eggs', 'flower', 'butter', 'beer', 'potato chips'],\n",
    "    ['wine', 'cheese'],\n",
    "    ['potato chips'],\n",
    "    ['eggs', 'flower', 'butter', 'wine', 'cheese'],\n",
    "    ['eggs', 'flower', 'butter', 'beer', 'potato chips'],\n",
    "    ['wine', 'beer'],\n",
    "    ['beer', 'potato chips'],\n",
    "    ['butter', 'eggs'],\n",
    "    ['beer', 'potato chips'],\n",
    "    ['flower', 'eggs'],\n",
    "    ['beer', 'potato chips'],\n",
    "    ['eggs', 'flower', 'butter', 'wine', 'cheese'],\n",
    "    ['beer', 'wine', 'potato chips', 'cheese'],\n",
    "    ['wine', 'cheese'],\n",
    "    ['beer', 'potato chips'],\n",
    "    ['wine', 'cheese'],\n",
    "    ['beer', 'potato chips']\n",
    "]"
   ]
  },
  {
   "cell_type": "code",
   "execution_count": 4,
   "id": "6154fefc",
   "metadata": {},
   "outputs": [
    {
     "data": {
      "text/html": [
       "<div>\n",
       "<style scoped>\n",
       "    .dataframe tbody tr th:only-of-type {\n",
       "        vertical-align: middle;\n",
       "    }\n",
       "\n",
       "    .dataframe tbody tr th {\n",
       "        vertical-align: top;\n",
       "    }\n",
       "\n",
       "    .dataframe thead th {\n",
       "        text-align: right;\n",
       "    }\n",
       "</style>\n",
       "<table border=\"1\" class=\"dataframe\">\n",
       "  <thead>\n",
       "    <tr style=\"text-align: right;\">\n",
       "      <th></th>\n",
       "      <th>0</th>\n",
       "      <th>1</th>\n",
       "      <th>2</th>\n",
       "      <th>3</th>\n",
       "      <th>4</th>\n",
       "    </tr>\n",
       "  </thead>\n",
       "  <tbody>\n",
       "    <tr>\n",
       "      <th>0</th>\n",
       "      <td>beer</td>\n",
       "      <td>wine</td>\n",
       "      <td>cheese</td>\n",
       "      <td>None</td>\n",
       "      <td>None</td>\n",
       "    </tr>\n",
       "    <tr>\n",
       "      <th>1</th>\n",
       "      <td>beer</td>\n",
       "      <td>potato chips</td>\n",
       "      <td>None</td>\n",
       "      <td>None</td>\n",
       "      <td>None</td>\n",
       "    </tr>\n",
       "    <tr>\n",
       "      <th>2</th>\n",
       "      <td>eggs</td>\n",
       "      <td>flower</td>\n",
       "      <td>butter</td>\n",
       "      <td>cheese</td>\n",
       "      <td>None</td>\n",
       "    </tr>\n",
       "    <tr>\n",
       "      <th>3</th>\n",
       "      <td>eggs</td>\n",
       "      <td>flower</td>\n",
       "      <td>butter</td>\n",
       "      <td>beer</td>\n",
       "      <td>potato chips</td>\n",
       "    </tr>\n",
       "    <tr>\n",
       "      <th>4</th>\n",
       "      <td>wine</td>\n",
       "      <td>cheese</td>\n",
       "      <td>None</td>\n",
       "      <td>None</td>\n",
       "      <td>None</td>\n",
       "    </tr>\n",
       "    <tr>\n",
       "      <th>5</th>\n",
       "      <td>potato chips</td>\n",
       "      <td>None</td>\n",
       "      <td>None</td>\n",
       "      <td>None</td>\n",
       "      <td>None</td>\n",
       "    </tr>\n",
       "    <tr>\n",
       "      <th>6</th>\n",
       "      <td>eggs</td>\n",
       "      <td>flower</td>\n",
       "      <td>butter</td>\n",
       "      <td>wine</td>\n",
       "      <td>cheese</td>\n",
       "    </tr>\n",
       "    <tr>\n",
       "      <th>7</th>\n",
       "      <td>eggs</td>\n",
       "      <td>flower</td>\n",
       "      <td>butter</td>\n",
       "      <td>beer</td>\n",
       "      <td>potato chips</td>\n",
       "    </tr>\n",
       "    <tr>\n",
       "      <th>8</th>\n",
       "      <td>wine</td>\n",
       "      <td>beer</td>\n",
       "      <td>None</td>\n",
       "      <td>None</td>\n",
       "      <td>None</td>\n",
       "    </tr>\n",
       "    <tr>\n",
       "      <th>9</th>\n",
       "      <td>beer</td>\n",
       "      <td>potato chips</td>\n",
       "      <td>None</td>\n",
       "      <td>None</td>\n",
       "      <td>None</td>\n",
       "    </tr>\n",
       "    <tr>\n",
       "      <th>10</th>\n",
       "      <td>butter</td>\n",
       "      <td>eggs</td>\n",
       "      <td>None</td>\n",
       "      <td>None</td>\n",
       "      <td>None</td>\n",
       "    </tr>\n",
       "    <tr>\n",
       "      <th>11</th>\n",
       "      <td>beer</td>\n",
       "      <td>potato chips</td>\n",
       "      <td>None</td>\n",
       "      <td>None</td>\n",
       "      <td>None</td>\n",
       "    </tr>\n",
       "    <tr>\n",
       "      <th>12</th>\n",
       "      <td>flower</td>\n",
       "      <td>eggs</td>\n",
       "      <td>None</td>\n",
       "      <td>None</td>\n",
       "      <td>None</td>\n",
       "    </tr>\n",
       "    <tr>\n",
       "      <th>13</th>\n",
       "      <td>beer</td>\n",
       "      <td>potato chips</td>\n",
       "      <td>None</td>\n",
       "      <td>None</td>\n",
       "      <td>None</td>\n",
       "    </tr>\n",
       "    <tr>\n",
       "      <th>14</th>\n",
       "      <td>eggs</td>\n",
       "      <td>flower</td>\n",
       "      <td>butter</td>\n",
       "      <td>wine</td>\n",
       "      <td>cheese</td>\n",
       "    </tr>\n",
       "    <tr>\n",
       "      <th>15</th>\n",
       "      <td>beer</td>\n",
       "      <td>wine</td>\n",
       "      <td>potato chips</td>\n",
       "      <td>cheese</td>\n",
       "      <td>None</td>\n",
       "    </tr>\n",
       "    <tr>\n",
       "      <th>16</th>\n",
       "      <td>wine</td>\n",
       "      <td>cheese</td>\n",
       "      <td>None</td>\n",
       "      <td>None</td>\n",
       "      <td>None</td>\n",
       "    </tr>\n",
       "    <tr>\n",
       "      <th>17</th>\n",
       "      <td>beer</td>\n",
       "      <td>potato chips</td>\n",
       "      <td>None</td>\n",
       "      <td>None</td>\n",
       "      <td>None</td>\n",
       "    </tr>\n",
       "    <tr>\n",
       "      <th>18</th>\n",
       "      <td>wine</td>\n",
       "      <td>cheese</td>\n",
       "      <td>None</td>\n",
       "      <td>None</td>\n",
       "      <td>None</td>\n",
       "    </tr>\n",
       "    <tr>\n",
       "      <th>19</th>\n",
       "      <td>beer</td>\n",
       "      <td>potato chips</td>\n",
       "      <td>None</td>\n",
       "      <td>None</td>\n",
       "      <td>None</td>\n",
       "    </tr>\n",
       "  </tbody>\n",
       "</table>\n",
       "</div>"
      ],
      "text/plain": [
       "               0             1             2       3             4\n",
       "0           beer          wine        cheese    None          None\n",
       "1           beer  potato chips          None    None          None\n",
       "2           eggs        flower        butter  cheese          None\n",
       "3           eggs        flower        butter    beer  potato chips\n",
       "4           wine        cheese          None    None          None\n",
       "5   potato chips          None          None    None          None\n",
       "6           eggs        flower        butter    wine        cheese\n",
       "7           eggs        flower        butter    beer  potato chips\n",
       "8           wine          beer          None    None          None\n",
       "9           beer  potato chips          None    None          None\n",
       "10        butter          eggs          None    None          None\n",
       "11          beer  potato chips          None    None          None\n",
       "12        flower          eggs          None    None          None\n",
       "13          beer  potato chips          None    None          None\n",
       "14          eggs        flower        butter    wine        cheese\n",
       "15          beer          wine  potato chips  cheese          None\n",
       "16          wine        cheese          None    None          None\n",
       "17          beer  potato chips          None    None          None\n",
       "18          wine        cheese          None    None          None\n",
       "19          beer  potato chips          None    None          None"
      ]
     },
     "execution_count": 4,
     "metadata": {},
     "output_type": "execute_result"
    }
   ],
   "source": [
    "# We simply convert the transaction list into a dataframe\n",
    "data = pd.DataFrame(transactions)\n",
    "data"
   ]
  },
  {
   "cell_type": "markdown",
   "id": "353bc2c9",
   "metadata": {},
   "source": [
    "## Setting the parameters for the algorithm and running the algorithm\n",
    "* **min_support:** this is the support threshold, A small difference is that it is expressed as a percentage here rather than a number.\n",
    "* **min_n_products:** we need to specify the smallest itemset size that we are interested in. In this case, we are interested in product associations, so we want to leave out individual (1-item) itemsets: the minimum size needs to be 2.\n",
    "* **max_length:** we would be interested in large product associations as well). Therefore, we take the maximum transaction size."
   ]
  },
  {
   "cell_type": "code",
   "execution_count": 5,
   "id": "517282f9",
   "metadata": {},
   "outputs": [],
   "source": [
    "# we are looking for itemSETS\n",
    "# we do not want to have any individual products returned\n",
    "min_n_products = 2\n",
    "\n",
    "# we want to set min support to 7\n",
    "# but we have to express it as a percentage\n",
    "min_support = 7/len(transactions)\n",
    "\n",
    "# we have no limit on the size of association rules\n",
    "# so we set it to the longest transaction\n",
    "max_length = max([len(x) for x in transactions])"
   ]
  },
  {
   "cell_type": "code",
   "execution_count": 6,
   "id": "70ccee8b",
   "metadata": {},
   "outputs": [
    {
     "name": "stderr",
     "output_type": "stream",
     "text": [
      "100%|███████████████████████████████████████████████████████████████████████████████████| 8/8 [00:00<00:00, 130.89it/s]\n",
      "100%|████████████████████████████████████████████████████████████████████████████████████████████| 8/8 [00:00<?, ?it/s]\n",
      "100%|███████████████████████████████████████████████████████████████████████████████████| 8/8 [00:00<00:00, 169.04it/s]\n"
     ]
    },
    {
     "name": "stdout",
     "output_type": "stream",
     "text": [
      "Combination 2 by 2\n"
     ]
    },
    {
     "name": "stderr",
     "output_type": "stream",
     "text": [
      "10it [00:00, 78.10it/s]\n"
     ]
    },
    {
     "name": "stdout",
     "output_type": "stream",
     "text": [
      "Combination 3 by 3\n"
     ]
    },
    {
     "name": "stderr",
     "output_type": "stream",
     "text": [
      "10it [00:00, 90.25it/s]\n"
     ]
    },
    {
     "name": "stdout",
     "output_type": "stream",
     "text": [
      "Combination 4 by 4\n"
     ]
    },
    {
     "name": "stderr",
     "output_type": "stream",
     "text": [
      "5it [00:00, 106.46it/s]\n"
     ]
    },
    {
     "name": "stdout",
     "output_type": "stream",
     "text": [
      "Combination 5 by 5\n"
     ]
    },
    {
     "name": "stderr",
     "output_type": "stream",
     "text": [
      "1it [00:00, 65.81it/s]\n"
     ]
    }
   ],
   "source": [
    "from pyECLAT import ECLAT\n",
    "\n",
    "# create an instance of eclat\n",
    "my_eclat = ECLAT(data=data, verbose=True)\n",
    "\n",
    "# fit the algorithm\n",
    "rule_indices, rule_supports = my_eclat.fit(min_support=min_support,\n",
    "                                           min_combination=min_n_products,\n",
    "                                           max_combination=max_length)"
   ]
  },
  {
   "cell_type": "code",
   "execution_count": 7,
   "id": "8d3f5467",
   "metadata": {},
   "outputs": [
    {
     "name": "stdout",
     "output_type": "stream",
     "text": [
      "{'potato chips & beer': 0.45, 'cheese & wine': 0.35}\n"
     ]
    }
   ],
   "source": [
    "print(rule_supports)"
   ]
  },
  {
   "cell_type": "markdown",
   "id": "abae999a",
   "metadata": {},
   "source": [
    "# Interpretation\n",
    "The interpretation of this is that within the transactions of our night store, there are two product combinations that are relatively strong. People often buy **Wine and Cheese together**. People also often buy **Potato Chips and Beer together.** Clearly, it could be a good idea to put those products together so that people can easily get to both of them. Or maybe the shop owner could think about packaging the products in an attractive offer to boost sales of those products even more."
   ]
  },
  {
   "cell_type": "code",
   "execution_count": null,
   "id": "84438cdd",
   "metadata": {},
   "outputs": [],
   "source": []
  }
 ],
 "metadata": {
  "kernelspec": {
   "display_name": "Python 3",
   "language": "python",
   "name": "python3"
  },
  "language_info": {
   "codemirror_mode": {
    "name": "ipython",
    "version": 3
   },
   "file_extension": ".py",
   "mimetype": "text/x-python",
   "name": "python",
   "nbconvert_exporter": "python",
   "pygments_lexer": "ipython3",
   "version": "3.8.8"
  }
 },
 "nbformat": 4,
 "nbformat_minor": 5
}
